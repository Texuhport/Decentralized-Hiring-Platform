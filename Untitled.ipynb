{
 "cells": [
  {
   "cell_type": "code",
   "execution_count": 57,
   "id": "cad79a8f-cf38-4c5e-b1b7-af4c793cfcf5",
   "metadata": {
    "tags": []
   },
   "outputs": [],
   "source": [
    "import os\n",
    "from dotenv import load_dotenv, find_dotenv\n",
    "from pathlib import Path"
   ]
  },
  {
   "cell_type": "code",
   "execution_count": 58,
   "id": "1f57b659-8391-447c-bb60-b15e0768b10e",
   "metadata": {
    "tags": []
   },
   "outputs": [
    {
     "data": {
      "text/plain": [
       "WindowsPath('C:/Users/Oluwa/GITHUB/Bootcamp/UTOR-VIRT-FIN-PT-08-2023-U-LOLC/19-Blockchain-Wallets/Unit 19 Homework/Instructions/Starter-Code/sample.env')"
      ]
     },
     "execution_count": 58,
     "metadata": {},
     "output_type": "execute_result"
    }
   ],
   "source": [
    "dotenv_path = Path('C:/Users/Oluwa/GITHUB/Bootcamp/UTOR-VIRT-FIN-PT-08-2023-U-LOLC/19-Blockchain-Wallets/Unit 19 Homework/Instructions/Starter-Code/sample.env')\n",
    "dotenv_path"
   ]
  },
  {
   "cell_type": "code",
   "execution_count": 62,
   "id": "acae6050-d2df-408f-a5b7-676c51b978c1",
   "metadata": {
    "tags": []
   },
   "outputs": [
    {
     "data": {
      "text/plain": [
       "True"
      ]
     },
     "execution_count": 62,
     "metadata": {},
     "output_type": "execute_result"
    }
   ],
   "source": [
    "load_dotenv(dotenv_path, override=True)"
   ]
  },
  {
   "cell_type": "code",
   "execution_count": 63,
   "id": "a6d49036-f6ec-4376-a2a3-563fe377f1f5",
   "metadata": {
    "tags": []
   },
   "outputs": [
    {
     "name": "stdout",
     "output_type": "stream",
     "text": [
      "venture sand dentist fall crowd secret tackle valley uphold sing enemy shove\n"
     ]
    }
   ],
   "source": [
    "print(os.getenv(\"MNEMONIC\"))"
   ]
  },
  {
   "cell_type": "code",
   "execution_count": 61,
   "id": "1ccb6d12-5885-42f5-9a14-091cb121d4d7",
   "metadata": {
    "tags": []
   },
   "outputs": [
    {
     "data": {
      "text/plain": [
       "'C:\\\\Users\\\\Oluwa\\\\GITHUB\\\\Bootcamp\\\\UTOR-VIRT-FIN-PT-08-2023-U-LOLC\\\\19-Blockchain-Wallets\\\\Unit 19 Homework\\\\Instructions\\\\Starter-Code'"
      ]
     },
     "execution_count": 61,
     "metadata": {},
     "output_type": "execute_result"
    }
   ],
   "source": [
    "os.getcwd()"
   ]
  }
 ],
 "metadata": {
  "kernelspec": {
   "display_name": "Python 3 (ipykernel)",
   "language": "python",
   "name": "python3"
  },
  "language_info": {
   "codemirror_mode": {
    "name": "ipython",
    "version": 3
   },
   "file_extension": ".py",
   "mimetype": "text/x-python",
   "name": "python",
   "nbconvert_exporter": "python",
   "pygments_lexer": "ipython3",
   "version": "3.11.5"
  }
 },
 "nbformat": 4,
 "nbformat_minor": 5
}
